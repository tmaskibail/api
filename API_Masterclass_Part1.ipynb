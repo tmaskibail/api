{
 "cells": [
  {
   "cell_type": "markdown",
   "metadata": {
    "colab_type": "text",
    "id": "s8rYWWxyBvdT"
   },
   "source": [
    "# Welcome to part 1 of the API Masterclass\n",
    "\n",
    "Welcome to the practical exercise of our API masterclass.\n",
    "\n",
    "As we have already learned, many startups use APIs to quickly build and integrate new services. In this first part of our practical exercise you will learn the basics of APIs and how to use them in different ways."
   ]
  },
  {
   "cell_type": "markdown",
   "metadata": {
    "colab_type": "text",
    "id": "Ryqkl0x8_UMz"
   },
   "source": [
    "# Introduction to APIs\n",
    "\n",
    "## Access APIs via Browser\n",
    "\n",
    "We'll start with a simple exercise to ge familiar with two fundamental API concepts: [1] RESTful web services and [2] \"JSON\".\n",
    "\n",
    "### The API request\n",
    "\n",
    "*Info:* Basically, every web service is an API and almost all RESTful web services (common architectual pattern) use HTTP as transportlayer. We can therefore call these services with a normal browser and have a look at how the service responds. \n",
    "\n",
    "OpenWeatherMap is a web service that provides weather related data including forecasts. A typical API request could look like like this: \n",
    "\n",
    "http://api.openweathermap.org/data/2.5/weather?APPID=21d450d89671b5620fe0a6d091d263f5&q=paris,fr&units=metric\n",
    "\n",
    "This http based request is built from a base URL, a method and parameters. If we take a closer look at the URL, we discover several elements in our request:\n",
    "\n",
    "1. the base URL of the API: **http://api.openweathermap.org/data/2.5/**\n",
    "2. the method of the API we call: **/weather**\n",
    "3. the parameters with which we call the method: \n",
    " - The API key with which we authenticate ourselves: **APPID=21d450d89671b5620fe0a6d091d263f5**\n",
    " - The query we use to specify the location: **q=paris,fr**\n",
    " - The parameter to get metric results: **units=metric**\n",
    "\n",
    "*Info:* If you would like to learn more about this particular API and possible parameters, have a look at their [Documentation](https://openweathermap.org/current#data)\n",
    "\n",
    "**TASK:** Please click on the link now to get the current weather in Berlin: \n",
    "\n",
    "http://api.openweathermap.org/data/2.5/weather?APPID=21d450d89671b5620fe0a6d091d263f5&q=paris,fr&units=metric\n",
    "\n",
    "### The API response\n",
    "\n",
    "Once you have clicked on the link, you will see an output like the one below: \n",
    "\n",
    "\n",
    "```\n",
    "{\n",
    "  \"coord\":{\"lon\":13.39,\"lat\":52.52},\n",
    "  \"weather\":[{\"id\":310,\"main\":\"Drizzle\",\"description\":\"light intensity drizzle rain\",\"icon\":\"09d\"}],\n",
    "  \"base\":\"stations\",\n",
    "  \"main\":{\"temp\":11.5,\"pressure\":1014,\"humidity\":87,\"temp_min\":10,\"temp_max\":12.22},\n",
    "  \"visibility\":9000,\n",
    "  \"wind\":{\"speed\":2.1,\"deg\":70},\n",
    "  \"clouds\":{\"all\":75},\n",
    "  \"dt\":1558018853,\n",
    "  \"sys\":{\"type\":1,\"id\":1275,\"message\":0.0096,\"country\":\"DE\",\"sunrise\":1557976168,\"sunset\":1558032979},\n",
    "  \"id\":2950159,\n",
    "  \"name\":\"Berlin\",\n",
    "  \"cod\":200\n",
    " }\n",
    "```\n",
    "\n",
    "*Info:* The format above is called JSON. It is a simple, structured and human readable file format for exchanging data objects between applications. In this context you can think of a data object as a container to store certain information. This information is structured along pre-defined attributes. The value of an attribute might be text or a number. However, an attribute can also contain another object as value.\n",
    "\n",
    "In JSON each object is enclosed by {}. Attributes are stored in the following format:  “attribute’s name” : value(s)\n",
    "\n",
    "\n",
    "### Further reading\n",
    "\n",
    "If you're looking for APIs for your next project or just to play around with, click on one of the following links. Many of the listed APIs are free and some of them can be used without registration or authentication.\n",
    "* [List of public available APIs](https://github.com/toddmotto/public-apis)\n",
    "* [Search enginge for APIs](https://apis.guru/browse-apis/)\n",
    " "
   ]
  },
  {
   "cell_type": "markdown",
   "metadata": {
    "colab_type": "text",
    "id": "3QBbqcWebKoZ"
   },
   "source": [
    "## API Documentation\n",
    "\n",
    "A common way to document APIs is swagger. With swagger the methods and parameters of an API can be displayed on a website. \n",
    "\n",
    "An example can be found here: https://petstore.swagger.io\n",
    "\n",
    "![Swagger examlpe](./swagger_example.png)\n",
    "\n",
    "Swagger documentation is typically structured on the basis of objects. In the case of the PetShop example these are \"Pets\", \"Inventory\" or \"User\".\n",
    "\n",
    "There are several methods, that can be applied to an object. The screenshot above shows the methods for creating, updating and finding pets.\n",
    "\n",
    "By clicking on one of the methods further details like the parameters or the form of the answer are shown. It is also possible to send a sample request to the API. \n",
    "\n",
    "**Optional TASK:** Experiment with the swagger API\n"
   ]
  },
  {
   "cell_type": "markdown",
   "metadata": {
    "colab_type": "text",
    "id": "iBVdH4Bh1GjO"
   },
   "source": [
    "# Calling an API with python\n",
    "\n",
    "Let's get down to business and your hands dirty. We will use the python programming language to call APIs, analyze their result and combine their power. "
   ]
  },
  {
   "cell_type": "markdown",
   "metadata": {
    "colab_type": "text",
    "id": "dgqbkyN1AuJY"
   },
   "source": [
    "## Weather API\n",
    "\n",
    "We will start again with the [OpenWeatherMap API](https://openweathermap.org/api/) that you already called earlier using your browser. \n",
    "\n",
    "**TASK:** Please execute the next cell to call the API using plain python\n",
    "\n",
    "*Info:* Read the comments in the cell to learn more about the function of each line of code."
   ]
  },
  {
   "cell_type": "code",
   "execution_count": null,
   "metadata": {
    "colab": {
     "base_uri": "https://localhost:8080/",
     "height": 788
    },
    "colab_type": "code",
    "id": "2mqr3bZswBOE",
    "outputId": "990b9836-a4de-4f67-80f4-d4e5850cab07",
    "scrolled": true
   },
   "outputs": [],
   "source": [
    "# First we store the base URL of our API\n",
    "url = \"http://api.openweathermap.org/data/2.5/weather\"\n",
    "\n",
    "# Set the place you want to query the weather for\n",
    "location = 'London'\n",
    "\n",
    "# Then let's create the parameters for our API call\n",
    "parameter = {\n",
    "    # This is the API Key - don't change this one\n",
    "    'APPID': '21d450d89671b5620fe0a6d091d263f5',\n",
    "    # Now let's define the units. You can try 'metric' or 'imperial'\n",
    "    'units': 'metric',\n",
    "    # Finally we define the location\n",
    "    'q': location\n",
    "}\n",
    "\n",
    "# Now we can call the API using the python requests module\n",
    "import requests\n",
    "response = requests.get(url, params=parameter)\n",
    "\n",
    "# Let's have a look at the result\n",
    "import json\n",
    "print(json.dumps(response.json(), indent=4, sort_keys=True))"
   ]
  },
  {
   "cell_type": "markdown",
   "metadata": {
    "colab_type": "text",
    "id": "_iV2gm6kCS-y"
   },
   "source": [
    "This is all nice, but for now we are only interested in the temperature and the weather. So let's store those in two variables and also create a nicer output.\n",
    "\n",
    "**TASK:** Please execute the next cell to cut this information"
   ]
  },
  {
   "cell_type": "code",
   "execution_count": null,
   "metadata": {
    "colab": {
     "base_uri": "https://localhost:8080/",
     "height": 35
    },
    "colab_type": "code",
    "id": "8qUrpgl0_9HC",
    "outputId": "7315f5f6-fd4f-4d69-9b46-0513dfaf3122"
   },
   "outputs": [],
   "source": [
    "temperature = response.json()['main']['temp']\n",
    "weather = response.json()['weather'][0]['description']\n",
    "print(\"The temperature in \"+location+\" is \"+str(temperature) + \" degrees with \"+weather)"
   ]
  },
  {
   "cell_type": "markdown",
   "metadata": {
    "colab_type": "text",
    "id": "GS4ld8p2EgtQ"
   },
   "source": [
    "Now let's put this all together into a easy to use function. This will help us to place the same request with different parameters. \n",
    "\n",
    "**TASK:** Please execute the following code block to prepare our reusable function."
   ]
  },
  {
   "cell_type": "code",
   "execution_count": null,
   "metadata": {
    "colab": {},
    "colab_type": "code",
    "id": "LTx3lum9EnqW"
   },
   "outputs": [],
   "source": [
    "import requests\n",
    "import json\n",
    "\n",
    "def getWeather(location):\n",
    "  parameter = {\n",
    "    'APPID': '21d450d89671b5620fe0a6d091d263f5',\n",
    "    'units': 'metric',\n",
    "    'q': location\n",
    "  }\n",
    "  response = requests.get(url, params=parameter)\n",
    "  temperature = response.json()['main']['temp']\n",
    "  weather = response.json()['weather'][0]['description']\n",
    "  print(\"The temperature in \"+location.capitalize()+\" is \"+str(temperature) + \" degrees with \"+weather)\n",
    "  return temperature, weather\n",
    "  "
   ]
  },
  {
   "cell_type": "markdown",
   "metadata": {},
   "source": [
    "With the function defined, it is very easy to get the temperature and weather for any city by calling \n",
    "\n",
    "```\n",
    "getWeather('cityname')\n",
    "```\n",
    "\n",
    "**TASK:** Execute the next cell with different city names"
   ]
  },
  {
   "cell_type": "code",
   "execution_count": null,
   "metadata": {
    "colab": {
     "base_uri": "https://localhost:8080/",
     "height": 54
    },
    "colab_type": "code",
    "id": "kdvLbR9NFIN5",
    "outputId": "d7f876f1-5331-499a-8e54-bbbf479cd789"
   },
   "outputs": [],
   "source": [
    "# getWeather(\"REPLACE WITH STARTING LOCATION\") # e.g. getWeather('Berlin')\n",
    "\n",
    "getWeather('london')"
   ]
  },
  {
   "cell_type": "markdown",
   "metadata": {},
   "source": [
    "Congratulations!\n",
    "\n",
    "You have succesfully mastered the usage of APIs with python and learned:\n",
    "* How a typical API call is build\n",
    "* How to call an API with your browser\n",
    "* How to call an API with plain python\n",
    "\n",
    "You can now move over to the second part of our API masterclass: How to build a new mobility startup!"
   ]
  }
 ],
 "metadata": {
  "colab": {
   "collapsed_sections": [],
   "name": "API Masterclass",
   "provenance": [],
   "toc_visible": true,
   "version": "0.3.2"
  },
  "kernelspec": {
   "display_name": "Python 3",
   "language": "python",
   "name": "python3"
  },
  "language_info": {
   "codemirror_mode": {
    "name": "ipython",
    "version": 3
   },
   "file_extension": ".py",
   "mimetype": "text/x-python",
   "name": "python",
   "nbconvert_exporter": "python",
   "pygments_lexer": "ipython3",
   "version": "3.7.4"
  }
 },
 "nbformat": 4,
 "nbformat_minor": 1
}
